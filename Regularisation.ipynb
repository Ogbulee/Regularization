{
 "cells": [
  {
   "cell_type": "markdown",
   "id": "b051a4ca",
   "metadata": {},
   "source": [
    "# Regularisation\n",
    "\n",
    "Regularisation simply means constraining a model to make it simpler and reduce the risk of overfitting. We use regularization because we want to add some bias into our model to prevent it overfitting to our training data. After adding a regularization, we end up with a machine learning model that performs well on the training data, and has a good ability to generalize to new examples that it has not seen during training. Regularisation also helps to stabilize the estimates especially when there's collinearity in the data.  Regularization term should only be added to the cost function during training. Once the model is trained, you want to use the unregularized performance measure to evaluate the model’s performance.\n",
    "\n",
    "The fewer degrees of freedom it has, the harder it will be for it to overfit the data. \n",
    "\n",
    "For a linear model, regularization is typically achieved by constraining the weights of the model. We will now look at Ridge Regression, Lasso Regression, and Elastic Net. A simple way to regularize a polynomial model is to reduce the number of polynomial degrees."
   ]
  },
  {
   "cell_type": "markdown",
   "id": "83596cea",
   "metadata": {},
   "source": [
    "### Ridge Regression\n",
    "\n",
    "This is also known as L2. This forces the learning algorithm to not only fit the data but also keep the model weights as small as possible. This means less signifcant features will be there but without much influence."
   ]
  },
  {
   "cell_type": "markdown",
   "id": "a886b3df",
   "metadata": {},
   "source": [
    "### Lasso Regression\n",
    "\n",
    "Least Absolute Shrinkage and Selection Operator (LASSO). It is also known as L1. An important characteristic of Lasso Regression is that it tends to eliminate the weights of the least important features. Lasso Regression automatically performs feature selection and outputs a sparse model (i.e., with few nonzero feature weights)."
   ]
  },
  {
   "cell_type": "markdown",
   "id": "332196d3",
   "metadata": {},
   "source": [
    "### Elastic Net\n",
    "\n",
    "Elastic Net is a middle ground between Ridge Regression and Lasso Regression. The regularization term is a simple mix of both Ridge and Lasso’s regularization terms, and you can control the mix ratio r. When r = 0, Elastic Net is equivalent to Ridge\n",
    "Regression, and when r = 1, it is equivalent to Lasso Regression."
   ]
  },
  {
   "cell_type": "code",
   "execution_count": 29,
   "id": "b1139af1",
   "metadata": {},
   "outputs": [],
   "source": [
    "#data analysis and viz\n",
    "import pandas as pd\n",
    "import numpy as np \n",
    "import matplotlib.pyplot as plt\n",
    "import seaborn as sns\n",
    "%matplotlib inline\n",
    "\n",
    "#ML_libraries\n",
    "from sklearn.model_selection import train_test_split\n",
    "from sklearn.linear_model import Lasso, LogisticRegression, Ridge, ElasticNet\n",
    "from sklearn.feature_selection import SelectFromModel\n",
    "from sklearn.preprocessing import StandardScaler"
   ]
  },
  {
   "cell_type": "code",
   "execution_count": 10,
   "id": "9ff5e4cd",
   "metadata": {},
   "outputs": [],
   "source": [
    "df = pd.read_csv('C:\\\\Users\\\\danielogbu\\\\train (1).csv')"
   ]
  },
  {
   "cell_type": "code",
   "execution_count": 39,
   "id": "e1e2590a",
   "metadata": {},
   "outputs": [
    {
     "data": {
      "text/plain": [
       "(1460, 38)"
      ]
     },
     "execution_count": 39,
     "metadata": {},
     "output_type": "execute_result"
    }
   ],
   "source": [
    "# Will focus on the continuous variables\n",
    "\n",
    "numerics_dtypes = ['int16', 'int32', 'int64', 'float16', 'float32', 'float64']\n",
    "numerical_vars = list(df.select_dtypes(include=numerics_dtypes).columns)\n",
    "\n",
    "df = df[numerical_vars]\n",
    "\n",
    "df.shape"
   ]
  },
  {
   "cell_type": "code",
   "execution_count": 40,
   "id": "0ba9b46f",
   "metadata": {},
   "outputs": [
    {
     "data": {
      "text/plain": [
       "((949, 37), (511, 37))"
      ]
     },
     "execution_count": 40,
     "metadata": {},
     "output_type": "execute_result"
    }
   ],
   "source": [
    "#train_test_split\n",
    "\n",
    "X_train, X_test, y_train, y_test = train_test_split(df.drop(labels=['SalePrice'], axis = 1),df[\"SalePrice\"], test_size=0.35, random_state=0)\n",
    "\n",
    "X_train.shape, X_test.shape"
   ]
  },
  {
   "cell_type": "markdown",
   "id": "01a6cc9a",
   "metadata": {},
   "source": [
    "### LASSO"
   ]
  },
  {
   "cell_type": "code",
   "execution_count": 41,
   "id": "cc7117f3",
   "metadata": {},
   "outputs": [
    {
     "data": {
      "text/plain": [
       "SelectFromModel(estimator=Lasso(alpha=100))"
      ]
     },
     "execution_count": 41,
     "metadata": {},
     "output_type": "execute_result"
    }
   ],
   "source": [
    "#Scaling a linear model is very beneficial\n",
    "\n",
    "scaler = StandardScaler()\n",
    "scaler.fit(X_train.fillna(0))\n",
    "\n",
    "L1Fea=SelectFromModel(Lasso(alpha=100))\n",
    "L1Fea.fit(scaler.transform(X_train.fillna(0)), y_train)"
   ]
  },
  {
   "cell_type": "code",
   "execution_count": 42,
   "id": "83efe823",
   "metadata": {},
   "outputs": [
    {
     "name": "stdout",
     "output_type": "stream",
     "text": [
      "Total features--> 37\n",
      "Selected features--> 33\n",
      "Removed features--> 4\n"
     ]
    }
   ],
   "source": [
    "print('Total features-->',X_train.shape[1])\n",
    "print('Selected features-->',sum(L1Fea.get_support()))\n",
    "print('Removed features-->',np.sum(L1Fea.estimator_.coef_==0))"
   ]
  },
  {
   "cell_type": "markdown",
   "id": "7d6c2a61",
   "metadata": {},
   "source": [
    "### Ridge"
   ]
  },
  {
   "cell_type": "code",
   "execution_count": 43,
   "id": "4df9ccb6",
   "metadata": {},
   "outputs": [
    {
     "data": {
      "text/plain": [
       "SelectFromModel(estimator=Ridge(alpha=100))"
      ]
     },
     "execution_count": 43,
     "metadata": {},
     "output_type": "execute_result"
    }
   ],
   "source": [
    "L2Fea=SelectFromModel(Ridge(alpha=100))\n",
    "L2Fea.fit(scaler.transform(X_train.fillna(0)), y_train)"
   ]
  },
  {
   "cell_type": "code",
   "execution_count": 44,
   "id": "30e8984d",
   "metadata": {},
   "outputs": [
    {
     "name": "stdout",
     "output_type": "stream",
     "text": [
      "Total features--> 37\n",
      "Selected features--> 17\n",
      "Removed features--> 0\n"
     ]
    }
   ],
   "source": [
    "print('Total features-->',X_train.shape[1])\n",
    "print('Selected features-->',sum(L2Fea.get_support()))\n",
    "print('Removed features-->',np.sum(L2Fea.estimator_.coef_==0))"
   ]
  },
  {
   "cell_type": "markdown",
   "id": "01c45802",
   "metadata": {},
   "source": [
    "### Elastic Net"
   ]
  },
  {
   "cell_type": "code",
   "execution_count": 45,
   "id": "cd4644e3",
   "metadata": {},
   "outputs": [
    {
     "data": {
      "text/plain": [
       "SelectFromModel(estimator=ElasticNet(alpha=100, l1_ratio=0.9))"
      ]
     },
     "execution_count": 45,
     "metadata": {},
     "output_type": "execute_result"
    }
   ],
   "source": [
    "ElaNet=SelectFromModel(ElasticNet(alpha=100, l1_ratio=0.9))\n",
    "ElaNet.fit(scaler.transform(X_train.fillna(0)), y_train)"
   ]
  },
  {
   "cell_type": "code",
   "execution_count": 46,
   "id": "220e154f",
   "metadata": {},
   "outputs": [
    {
     "name": "stdout",
     "output_type": "stream",
     "text": [
      "Total features--> 37\n",
      "Selected features--> 16\n",
      "Removed features--> 0\n"
     ]
    }
   ],
   "source": [
    "print('Total features-->',X_train.shape[1])\n",
    "print('Selected features-->',sum(ElaNet.get_support()))\n",
    "print('Removed features-->',np.sum(ElaNet.estimator_.coef_==0))"
   ]
  },
  {
   "cell_type": "code",
   "execution_count": null,
   "id": "66757573",
   "metadata": {},
   "outputs": [],
   "source": []
  },
  {
   "cell_type": "code",
   "execution_count": null,
   "id": "f82fc3a2",
   "metadata": {},
   "outputs": [],
   "source": []
  }
 ],
 "metadata": {
  "kernelspec": {
   "display_name": "Python 3 (ipykernel)",
   "language": "python",
   "name": "python3"
  },
  "language_info": {
   "codemirror_mode": {
    "name": "ipython",
    "version": 3
   },
   "file_extension": ".py",
   "mimetype": "text/x-python",
   "name": "python",
   "nbconvert_exporter": "python",
   "pygments_lexer": "ipython3",
   "version": "3.9.12"
  }
 },
 "nbformat": 4,
 "nbformat_minor": 5
}
